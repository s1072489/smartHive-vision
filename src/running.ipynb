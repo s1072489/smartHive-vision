{
 "cells": [
  {
   "cell_type": "code",
   "execution_count": null,
   "id": "initial_id",
   "metadata": {
    "collapsed": true
   },
   "outputs": [],
   "source": [
    "# Install necessary libraries\n",
    "!pip install ultralytics==8.2.71 opencv-python==4.10.0.84"
   ]
  },
  {
   "metadata": {},
   "cell_type": "code",
   "outputs": [],
   "execution_count": null,
   "source": [
    "# Download pretrained model and python script\n",
    "!wget https://github.com/s1072489/smartHive-vision/raw/main/src/YOLOv10-Bee.pt\n",
    "!wget https://github.com/s1072489/smartHive-vision/raw/main/src/run_model.py"
   ],
   "id": "17c20a73438dd5e5"
  },
  {
   "metadata": {},
   "cell_type": "code",
   "outputs": [],
   "execution_count": null,
   "source": [
    "# Run the model on an image\n",
    "!python run_model.py --type image --file \"image.jpg\" --export \"annotated.jpg\""
   ],
   "id": "f24aa887a0c12721"
  },
  {
   "metadata": {},
   "cell_type": "code",
   "source": [
    "# Run the model on a video\n",
    "!python run_model.py --type video --file \"video.mp4\" --export \"annotated.mp4\""
   ],
   "id": "30ddd65c2a41fac3",
   "outputs": [],
   "execution_count": null
  }
 ],
 "metadata": {
  "kernelspec": {
   "display_name": "Python 3",
   "language": "python",
   "name": "python3"
  },
  "language_info": {
   "codemirror_mode": {
    "name": "ipython",
    "version": 2
   },
   "file_extension": ".py",
   "mimetype": "text/x-python",
   "name": "python",
   "nbconvert_exporter": "python",
   "pygments_lexer": "ipython2",
   "version": "2.7.6"
  }
 },
 "nbformat": 4,
 "nbformat_minor": 5
}
