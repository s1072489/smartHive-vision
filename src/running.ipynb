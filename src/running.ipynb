{
 "cells": [
  {
   "cell_type": "code",
   "execution_count": null,
   "id": "initial_id",
   "metadata": {
    "collapsed": true
   },
   "outputs": [],
   "source": [
    "# Install necessary libraries\n",
    "!pip install ultralytics==8.2.71 opencv-python==4.10.0.84"
   ]
  },
  {
   "metadata": {},
   "cell_type": "code",
   "outputs": [],
   "execution_count": null,
   "source": [
    "# Download pretrained model\n",
    "!wget https://github.com/s1072489/smartHive-vision/raw/main/src/YOLOv10-Bee.pt"
   ],
   "id": "17c20a73438dd5e5"
  },
  {
   "metadata": {
    "ExecuteTime": {
     "end_time": "2024-08-07T22:03:17.219196Z",
     "start_time": "2024-08-07T22:03:10.117254Z"
    }
   },
   "cell_type": "code",
   "source": [
    "# Import necessary libraries\n",
    "from ultralytics import YOLO\n",
    "from collections import defaultdict\n",
    "import numpy as np\n",
    "import cv2 as cv\n",
    "\n",
    "model = YOLO(\"YOLOv10-Bee.pt\")\n",
    "capture = cv.VideoCapture(\"video.avi\")\n",
    "\n",
    "track_history = defaultdict(lambda: [])\n",
    "\n",
    "if not capture.isOpened():\n",
    "    print(\"Could not mount video file\")\n",
    "\n",
    "while True:\n",
    "    ret, frame = capture.read()\n",
    "    \n",
    "    if not ret:\n",
    "        break\n",
    "    \n",
    "    results = model.track(frame, persist=True)\n",
    "    \n",
    "    # Visualize the results on the frame\n",
    "    boxes = results[0].boxes.xywh.cpu()\n",
    "    track_ids = results[0].boxes.id.int().cpu().tolist()\n",
    "\n",
    "    annotated_frame = results[0].plot()\n",
    "\n",
    "    for box, track_id in zip(boxes, track_ids):\n",
    "        x, y, w, h = box\n",
    "        \n",
    "        track = track_history[track_id]\n",
    "        track.append((float(x), float(y)))  # x, y center point\n",
    "        \n",
    "        if len(track) > 30:  # retain 90 tracks for 90 frames\n",
    "            track.pop(0)\n",
    "\n",
    "        # Draw the tracking lines\n",
    "        points = np.hstack(track).astype(np.int32).reshape((-1, 1, 2))\n",
    "        cv.polylines(annotated_frame, [points], isClosed=False, color=(230, 230, 230), thickness=10)\n",
    "\n",
    "    # Display the annotated frame\n",
    "    cv.imshow(\"YOLOv8 Tracking\", annotated_frame)\n",
    "\n",
    "    if cv.waitKey(1) & 0xFF == ord(\"q\"):\n",
    "        break\n",
    "\n",
    "capture.release()\n",
    "cv.destroyAllWindows()"
   ],
   "id": "30ddd65c2a41fac3",
   "outputs": [
    {
     "name": "stdout",
     "output_type": "stream",
     "text": [
      "Could not mount video file\n"
     ]
    }
   ],
   "execution_count": 1
  }
 ],
 "metadata": {
  "kernelspec": {
   "display_name": "Python 3",
   "language": "python",
   "name": "python3"
  },
  "language_info": {
   "codemirror_mode": {
    "name": "ipython",
    "version": 2
   },
   "file_extension": ".py",
   "mimetype": "text/x-python",
   "name": "python",
   "nbconvert_exporter": "python",
   "pygments_lexer": "ipython2",
   "version": "2.7.6"
  }
 },
 "nbformat": 4,
 "nbformat_minor": 5
}
