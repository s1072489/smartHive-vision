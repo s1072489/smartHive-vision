{
 "cells": [
  {
   "metadata": {},
   "cell_type": "code",
   "outputs": [],
   "execution_count": null,
   "source": [
    "# Install necessary libraries\n",
    "!pip install ultralytics==8.2.71"
   ],
   "id": "61c103183bb77228"
  },
  {
   "metadata": {},
   "cell_type": "code",
   "outputs": [],
   "execution_count": null,
   "source": [
    "# Download the dataset\n",
    "!wget https://github.com/smartHiveProject/smartHive-vision-dataset/releases/download/v1.0.1/smartHive_vision_dataset_v1.0.1.zip\n",
    "\n",
    "!unzip /content/smartHive_vision_dataset_v1.0.0.zip -d /content/dataset\n",
    "!rm /content/smartHive_vision_dataset_v1.0.0.zip\n",
    "\n",
    "# Create runs directory\n",
    "!mkdir /content/runs"
   ],
   "id": "96351e2e8567fe21"
  },
  {
   "metadata": {},
   "cell_type": "code",
   "outputs": [],
   "execution_count": null,
   "source": [
    "# Load tensorboard extension\n",
    "%load_ext tensorboard\n",
    "%tensorboard --logdir /content/runs"
   ],
   "id": "c1580218be5c5ae1"
  },
  {
   "metadata": {},
   "cell_type": "code",
   "outputs": [],
   "execution_count": null,
   "source": [
    "# Download the pretrained model\n",
    "!wget https://github.com/ultralytics/assets/releases/download/v8.2.0/yolov10l.pt"
   ],
   "id": "8d59c335289045cd"
  },
  {
   "metadata": {},
   "cell_type": "code",
   "outputs": [],
   "execution_count": null,
   "source": [
    "# Import necessary libraries\n",
    "from ultralytics import YOLO"
   ],
   "id": "initial_id"
  },
  {
   "metadata": {},
   "cell_type": "code",
   "outputs": [],
   "execution_count": null,
   "source": [
    "# Load pretrained model\n",
    "model = YOLO(\"yolov10l.pt\")"
   ],
   "id": "4d901878f91de48d"
  },
  {
   "metadata": {},
   "cell_type": "code",
   "outputs": [],
   "execution_count": null,
   "source": [
    "# Train the model\n",
    "results = model.train(data=\"/content/dataset/data.yaml\", epochs=300, batch=-1, imgsz=640, project=\"/content/runs\", device=0)"
   ],
   "id": "f2f9c9d173fa8a92"
  },
  {
   "metadata": {},
   "cell_type": "code",
   "outputs": [],
   "execution_count": null,
   "source": [
    "# Evaluate model\n",
    "model = YOLO(\"/content/runs/train/weights/best.pt\")\n",
    "\n",
    "metrics = model.val()\n",
    "\n",
    "print(metrics.box.map)"
   ],
   "id": "16c059b40cb4d084"
  }
 ],
 "metadata": {
  "kernelspec": {
   "display_name": "Python 3",
   "language": "python",
   "name": "python3"
  },
  "language_info": {
   "codemirror_mode": {
    "name": "ipython",
    "version": 2
   },
   "file_extension": ".py",
   "mimetype": "text/x-python",
   "name": "python",
   "nbconvert_exporter": "python",
   "pygments_lexer": "ipython2",
   "version": "2.7.6"
  }
 },
 "nbformat": 4,
 "nbformat_minor": 5
}
